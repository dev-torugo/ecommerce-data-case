{
 "cells": [
  {
   "cell_type": "code",
   "execution_count": null,
   "metadata": {
    "application/vnd.databricks.v1+cell": {
     "cellMetadata": {
      "byteLimit": 2048000,
      "rowLimit": 10000
     },
     "inputWidgets": {},
     "nuid": "860ab1b0-45d1-4e19-8517-48a12241b6cd",
     "showTitle": false,
     "title": ""
    }
   },
   "outputs": [],
   "source": [
    "from pyspark.sql import SparkSession\n",
    "import pandas as pd\n",
    "import yaml\n",
    "\n",
    "#Criar sessão Spark\n",
    "spark = SparkSession.builder \\\n",
    "    .appName('RNP - E-Commerce Case - Victor Hugo') \\\n",
    "    .config('spark.sql.legacy.pathOptionBehavior.enabled', True) \\\n",
    "    .config('spark.databricks.delta.formatCheck.enabled', False)  \\\n",
    "    .getOrCreate()\n",
    "\n",
    "# Configurar as opções de conexão ao banco de dados\n",
    "credenciais = yaml.load(open('./credenciais.yml'))\n",
    "propriedades = {\n",
    "    \"user\": credenciais['database']['username'],\n",
    "    \"password\": credenciais['database']['password'],\n",
    "    \"driver\": credenciais['database']['driver'],\n",
    "    \"url\": credenciais['database']['url']\n",
    "}\n",
    "\n",
    "jdbc_url = propriedades[\"url\"]"
   ]
  },
  {
   "cell_type": "code",
   "execution_count": null,
   "metadata": {
    "application/vnd.databricks.v1+cell": {
     "cellMetadata": {
      "byteLimit": 2048000,
      "rowLimit": 10000
     },
     "inputWidgets": {},
     "nuid": "99e06b9f-ac13-4579-88f0-4636e6aeef21",
     "showTitle": false,
     "title": ""
    }
   },
   "outputs": [
    {
     "data": {
      "text/html": [
       "<style scoped>\n",
       "  .ansiout {\n",
       "    display: block;\n",
       "    unicode-bidi: embed;\n",
       "    white-space: pre-wrap;\n",
       "    word-wrap: break-word;\n",
       "    word-break: break-all;\n",
       "    font-family: \"Source Code Pro\", \"Menlo\", monospace;;\n",
       "    font-size: 13px;\n",
       "    color: #555;\n",
       "    margin-left: 4px;\n",
       "    line-height: 19px;\n",
       "  }\n",
       "</style>"
      ]
     },
     "metadata": {
      "application/vnd.databricks.v1+output": {
       "arguments": {},
       "data": "",
       "errorSummary": "The spark context has stopped and the driver is restarting. Your notebook will be automatically reattached.",
       "errorTraceType": "html",
       "metadata": {},
       "type": "ipynbError"
      }
     },
     "output_type": "display_data"
    }
   ],
   "source": [
    "# QUESTÃO 3 - No Notebook crie lógica para salvar cada tabela como parqueT\n",
    "\n",
    "# Configurações de conexão com o banco de dados\n",
    "database_url = propriedades['url']\n",
    "\n",
    "# Obtendo a lista de todas as tabelas do banco de dados\n",
    "query = \"(SELECT table_name FROM information_schema.tables WHERE table_schema = 'public') AS tables\"\n",
    "ecommerce_tables = spark.read.jdbc(url=database_url, table=query, properties=propriedades)\n",
    "\n",
    "# Excluindo as tabelas que você deseja evitar\n",
    "tables_to_exclude = [\"pg_stat_statements\", \"pg_buffercache\"]\n",
    "filtered_tables_df = ecommerce_tables.filter(~ecommerce_tables.table_name.isin(tables_to_exclude))\n",
    "\n",
    "# Coletando a lista final de tabelas a serem salvas como Parquet\n",
    "tabelas = filtered_tables_df.select(\"table_name\").rdd.flatMap(lambda x: x).collect()\n",
    "\n",
    "# Loop através das tabelas e salvando como Parquet\n",
    "for tabela in tabelas:\n",
    "    table_df = spark.read \\\n",
    "        .jdbc(url=database_url, table=tabela, properties=propriedades)\n",
    "    \n",
    "    # Salvando a tabela como Parquet\n",
    "    table_df.write.parquet(f\"/dbfs/Users/victorhacmo@gmail.com/parquets/{tabela}.parquet\")\n",
    "\n",
    "# Encerrando a sessão Spark\n",
    "spark.stop()\n"
   ]
  },
  {
   "cell_type": "code",
   "execution_count": null,
   "metadata": {
    "application/vnd.databricks.v1+cell": {
     "cellMetadata": {
      "byteLimit": 2048000,
      "rowLimit": 10000
     },
     "inputWidgets": {},
     "nuid": "474d3f17-d573-41b7-9f3d-4217e8b30b5b",
     "showTitle": false,
     "title": ""
    }
   },
   "outputs": [],
   "source": [
    "#FERRAMENTA AUXILIAR PARA AS RESPOSTAS DA QUESTÃO 5\n",
    "\n",
    "# Esta função utiliza o Spark para consultar dados de e-commerce de uma fonte JDBC especificada pela URL e tabela fornecidas. Os resultados são armazenados em um arquivo Delta no caminho especificado, permitindo a substituição do esquema anterior. Em caso de erro, a função exibe uma mensagem de erro detalhada.\n",
    "\n",
    "def query_ecommerce_data (url, table, properties):\n",
    "    try:\n",
    "        df = spark.read.jdbc(url,\n",
    "                            table,\n",
    "                            properties=propriedades)\n",
    "        file_path = f'/dbfs/Users/victorhacmo@gmail.com/dados_delta'\n",
    "        df.write.format('delta').mode('overwrite').option(\"overwriteSchema\", \"true\").save(f'{file_path}')\n",
    "        return df\n",
    "    except Exception as e:\n",
    "        print(f'Erro: {e}')"
   ]
  },
  {
   "cell_type": "code",
   "execution_count": null,
   "metadata": {
    "application/vnd.databricks.v1+cell": {
     "cellMetadata": {
      "byteLimit": 2048000,
      "rowLimit": 10000
     },
     "inputWidgets": {},
     "nuid": "da2dae83-56bf-4e76-808e-829eb0caddfc",
     "showTitle": false,
     "title": ""
    }
   },
   "outputs": [],
   "source": [
    "# QUESTÃO 5.1 - Qual país possui a maior quantidade de itens cancelados?\n",
    "\n",
    "query_Q5_1 = '''\n",
    "    (SELECT DISTINCT\n",
    "        C.COUNTRY AS PAIS,\n",
    "        SUM(DOS.QUANTITY_ORDERED) AS TOTAL_ITENS_CANCELADOS\n",
    "    FROM \n",
    "        PUBLIC.CUSTOMERS C \n",
    "    LEFT JOIN \n",
    "        PUBLIC.ORDERS OS ON C.CUSTOMER_NUMBER = OS.CUSTOMER_NUMBER\n",
    "    JOIN \n",
    "        ORDERDETAILS DOS ON DOS.ORDER_NUMBER = OS.ORDER_NUMBER\n",
    "    WHERE \n",
    "        OS.STATUS = 'Cancelled'\n",
    "    GROUP BY \n",
    "        C.COUNTRY\n",
    "    ORDER BY \n",
    "        TOTAL_ITENS_CANCELADOS DESC\n",
    "    LIMIT 1) AS subquery\n",
    "'''\n",
    "\n",
    "df_qtd_cancelados = query_ecommerce_data(jdbc_url, query_Q5_1, propriedades)"
   ]
  },
  {
   "cell_type": "code",
   "execution_count": null,
   "metadata": {
    "application/vnd.databricks.v1+cell": {
     "cellMetadata": {
      "byteLimit": 2048000,
      "rowLimit": 10000
     },
     "inputWidgets": {},
     "nuid": "85f9ae98-f183-4724-8061-957b13e76221",
     "showTitle": false,
     "title": ""
    }
   },
   "outputs": [
    {
     "name": "stdout",
     "output_type": "stream",
     "text": [
      "+-----+----------------------+\n",
      "| pais|total_itens_cancelados|\n",
      "+-----+----------------------+\n",
      "|Spain|                   605|\n",
      "+-----+----------------------+\n",
      "\n"
     ]
    }
   ],
   "source": [
    "df_qtd_cancelados.show()"
   ]
  },
  {
   "cell_type": "code",
   "execution_count": null,
   "metadata": {
    "application/vnd.databricks.v1+cell": {
     "cellMetadata": {
      "byteLimit": 2048000,
      "rowLimit": 10000
     },
     "inputWidgets": {},
     "nuid": "8274ed32-9262-4eef-8454-b9eb74f41e82",
     "showTitle": false,
     "title": ""
    }
   },
   "outputs": [],
   "source": [
    "# QUESTÃO 5.2 - Qual o faturamento da linha de produto mais vendido, considere os itens com status 'Shipped', cujo o pedido foi realizado no ano de 2005?\n",
    "\n",
    "query_Q5_2 = '''\n",
    "(SELECT \n",
    "    PD.PRODUCT_LINE,\n",
    "        SUM(P.AMOUNT) AS FATURAMENTO\n",
    "FROM \n",
    "    PRODUCTS PD\n",
    "LEFT JOIN \n",
    "    ORDERDETAILS OD\n",
    "ON \n",
    "    OD.PRODUCT_CODE  = PD.PRODUCT_CODE \n",
    "LEFT JOIN \n",
    "    ORDERS O\n",
    "ON \n",
    "    O.ORDER_NUMBER  = OD.ORDER_NUMBER \n",
    "LEFT JOIN \n",
    "    PAYMENTS P \n",
    "ON \n",
    "    P.CUSTOMER_NUMBER = O.CUSTOMER_NUMBER \n",
    "WHERE \n",
    "    O.STATUS = 'Shipped'\n",
    "AND \n",
    "    EXTRACT(YEAR FROM O.ORDER_DATE) = 2005\n",
    "GROUP BY \n",
    "    PD.PRODUCT_LINE\n",
    "ORDER BY \n",
    "    FATURAMENTO DESC\n",
    "LIMIT 1) As subquery\n",
    "'''\n",
    "\n",
    "df_produto_2005 = query_ecommerce_data(jdbc_url, query_Q5_2, propriedades)"
   ]
  },
  {
   "cell_type": "code",
   "execution_count": null,
   "metadata": {
    "application/vnd.databricks.v1+cell": {
     "cellMetadata": {
      "byteLimit": 2048000,
      "rowLimit": 10000
     },
     "inputWidgets": {},
     "nuid": "6b454686-3df7-40d4-a90d-1d079cf5dfe2",
     "showTitle": false,
     "title": ""
    }
   },
   "outputs": [
    {
     "name": "stdout",
     "output_type": "stream",
     "text": [
      "+------------+--------------------+\n",
      "|product_line|         faturamento|\n",
      "+------------+--------------------+\n",
      "|Classic Cars|47574393.22000000...|\n",
      "+------------+--------------------+\n",
      "\n"
     ]
    }
   ],
   "source": [
    "df_produto_2005.show()"
   ]
  },
  {
   "cell_type": "code",
   "execution_count": null,
   "metadata": {
    "application/vnd.databricks.v1+cell": {
     "cellMetadata": {
      "byteLimit": 2048000,
      "rowLimit": 10000
     },
     "inputWidgets": {},
     "nuid": "644de670-f6b0-439a-be4f-36352b750868",
     "showTitle": false,
     "title": ""
    }
   },
   "outputs": [],
   "source": [
    "# QUESTÃO 5.3 - Nome, sobrenome e e-mail dos vendedores do Japão, o local-part do e-mail deve estar mascarado.\n",
    "\n",
    "query_Q5_3 = '''\n",
    "(SELECT\n",
    "        E.FIRST_NAME AS NOME,\n",
    "        E.LAST_NAME AS SOBRENOME,\n",
    "        CONCAT(REPEAT('*', POSITION('@' IN E.EMAIL) - 1), SUBSTRING(E.EMAIL, POSITION('@' IN E.EMAIL))) AS EMAIL\n",
    "    FROM \n",
    "        EMPLOYEES E \n",
    "    LEFT JOIN \n",
    "        OFFICES O \n",
    "    ON \n",
    "        O.OFFICE_CODE = E.OFFICE_CODE \n",
    "    WHERE \n",
    "        O.COUNTRY = 'Japan'\n",
    ") As subquery\n",
    "'''\n",
    "\n",
    "df_vendedores_japao = query_ecommerce_data(jdbc_url, query_Q5_3, propriedades)"
   ]
  },
  {
   "cell_type": "code",
   "execution_count": null,
   "metadata": {
    "application/vnd.databricks.v1+cell": {
     "cellMetadata": {
      "byteLimit": 2048000,
      "rowLimit": 10000
     },
     "inputWidgets": {},
     "nuid": "a598649d-ef0f-4259-a7c9-0d1c2d5c8d87",
     "showTitle": false,
     "title": ""
    }
   },
   "outputs": [
    {
     "name": "stdout",
     "output_type": "stream",
     "text": [
      "+-------+---------+--------------------+\n",
      "|   nome|sobrenome|               email|\n",
      "+-------+---------+--------------------+\n",
      "|   Mami|    Nishi|******@classicmod...|\n",
      "|Yoshimi|     Kato|*****@classicmode...|\n",
      "+-------+---------+--------------------+\n",
      "\n"
     ]
    }
   ],
   "source": [
    "df_vendedores_japao.show()"
   ]
  }
 ],
 "metadata": {
  "application/vnd.databricks.v1+notebook": {
   "dashboards": [],
   "language": "python",
   "notebookMetadata": {
    "pythonIndentUnit": 4
   },
   "notebookName": "RNP - E-COMMERCE DATA CASE",
   "widgets": {}
  },
  "language_info": {
   "name": "python"
  }
 },
 "nbformat": 4,
 "nbformat_minor": 0
}
